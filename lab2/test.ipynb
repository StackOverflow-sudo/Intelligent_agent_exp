{
 "cells": [
  {
   "cell_type": "code",
   "execution_count": 4,
   "id": "64705352",
   "metadata": {},
   "outputs": [],
   "source": [
    "!conda activate agent_experiment"
   ]
  },
  {
   "cell_type": "code",
   "execution_count": 5,
   "id": "86fab78d",
   "metadata": {},
   "outputs": [
    {
     "name": "stdout",
     "output_type": "stream",
     "text": [
      "# packages in environment at D:\\env\\python\\anaconda\\envs\\agent_experiment:\n",
      "#\n",
      "# Name                     Version          Build               Channel\n",
      "_python_abi3_support       1.0              hd8ed1ab_2          conda-forge\n",
      "argcomplete                3.6.2            pypi_0              pypi\n",
      "asttokens                  3.0.0            pyhd8ed1ab_1        conda-forge\n",
      "attrs                      25.4.0           pypi_0              pypi\n",
      "blas                       1.0              mkl\n",
      "bzip2                      1.0.8            h2bbff1b_6\n",
      "ca-certificates            2025.10.5        h4c7d964_0          conda-forge\n",
      "colorama                   0.4.6            pyhd8ed1ab_1        conda-forge\n",
      "comm                       0.2.3            pyhe01879c_0        conda-forge\n",
      "cpython                    3.13.8           py313hd8ed1ab_101   conda-forge\n",
      "debugpy                    1.8.17           py313h927ade5_0     conda-forge\n",
      "decorator                  5.2.1            pyhd8ed1ab_0        conda-forge\n",
      "exceptiongroup             1.3.0            pyhd8ed1ab_0        conda-forge\n",
      "executing                  2.2.1            pyhd8ed1ab_0        conda-forge\n",
      "expat                      2.7.1            h8ddb27b_0\n",
      "importlib-metadata         8.7.0            pyhe01879c_1        conda-forge\n",
      "intel-openmp               2025.0.0         haa95532_1164\n",
      "ipykernel                  7.0.1            pyh6dadd2b_0        conda-forge\n",
      "ipython                    9.6.0            pyh6be1c34_0        conda-forge\n",
      "ipython_pygments_lexers    1.1.1            pyhd8ed1ab_0        conda-forge\n",
      "jedi                       0.19.2           pyhd8ed1ab_1        conda-forge\n",
      "jupyter_client             8.6.3            pyhd8ed1ab_1        conda-forge\n",
      "jupyter_core               5.8.1            pyh5737063_0        conda-forge\n",
      "krb5                       1.21.3           hdf4eb48_0          conda-forge\n",
      "libffi                     3.4.4            hd77b12b_1\n",
      "libmpdec                   4.0.0            h827c3e9_0\n",
      "libsodium                  1.0.20           hc70643c_0          conda-forge\n",
      "libzlib                    1.3.1            h02ab6af_0\n",
      "loguru                     0.7.3            pypi_0              pypi\n",
      "mable                      0.0.13.post3     pypi_0              pypi\n",
      "marshmallow                4.0.1            pypi_0              pypi\n",
      "matplotlib-inline          0.1.7            pyhd8ed1ab_1        conda-forge\n",
      "mkl                        2025.0.0         h5da7b33_930\n",
      "mkl-service                2.5.2            py313h0b37514_0\n",
      "mkl_fft                    1.3.11           py313h5810407_1\n",
      "mkl_random                 1.2.8            py313hedd7022_1\n",
      "nest-asyncio               1.6.0            pyhd8ed1ab_1        conda-forge\n",
      "networkx                   3.5              pypi_0              pypi\n",
      "numpy                      2.3.3            py313h050da96_0\n",
      "numpy-base                 2.3.3            py313h1e017a8_0\n",
      "openssl                    3.5.4            h725018a_0          conda-forge\n",
      "packaging                  25.0             pyh29332c3_1        conda-forge\n",
      "pandas                     2.3.3            pypi_0              pypi\n",
      "parso                      0.8.5            pyhcf101f3_0        conda-forge\n",
      "pickleshare                0.7.5            pyhd8ed1ab_1004     conda-forge\n",
      "pip                        25.2             pyhc872135_0\n",
      "platformdirs               4.5.0            pyhcf101f3_0        conda-forge\n",
      "prettytable                3.16.0           pypi_0              pypi\n",
      "prompt-toolkit             3.0.52           pyha770c72_0        conda-forge\n",
      "psutil                     7.1.0            py313h5ea7bf4_0     conda-forge\n",
      "pure_eval                  0.2.3            pyhd8ed1ab_1        conda-forge\n",
      "pygments                   2.19.2           pyhd8ed1ab_0        conda-forge\n",
      "python                     3.13.7           h260b955_100_cp313\n",
      "python-dateutil            2.9.0.post0      pyhe01879c_2        conda-forge\n",
      "python-gil                 3.13.8           h4df99d1_101        conda-forge\n",
      "python_abi                 3.13             1_cp313\n",
      "pytz                       2025.2           pypi_0              pypi\n",
      "pywin32                    311              py313h40c08fc_1     conda-forge\n",
      "pyzmq                      27.1.0           py312hbb5da91_0     conda-forge\n",
      "setuptools                 72.1.0           py313haa95532_0\n",
      "simplification             0.7.13           pypi_0              pypi\n",
      "six                        1.17.0           pyhe01879c_1        conda-forge\n",
      "sqlite                     3.50.2           hda9a48d_1\n",
      "stack_data                 0.6.3            pyhd8ed1ab_1        conda-forge\n",
      "tbb                        2022.0.0         h214f63a_0\n",
      "tbb-devel                  2022.0.0         h214f63a_0\n",
      "tk                         8.6.15           hf199647_0\n",
      "tornado                    6.5.2            py313h5ea7bf4_1     conda-forge\n",
      "traitlets                  5.14.3           pyhd8ed1ab_1        conda-forge\n",
      "typing_extensions          4.15.0           pyhcf101f3_0        conda-forge\n",
      "tzdata                     2025.2           pypi_0              pypi\n",
      "ucrt                       10.0.22621.0     haa95532_0\n",
      "vc                         14.3             h2df5915_10\n",
      "vc14_runtime               14.44.35208      h4927774_10\n",
      "vs2015_runtime             14.44.35208      ha6b5a95_10\n",
      "wcwidth                    0.2.14           pyhd8ed1ab_0        conda-forge\n",
      "wheel                      0.45.1           py313haa95532_0\n",
      "win32-setctime             1.2.0            pypi_0              pypi\n",
      "xz                         5.6.4            h4754444_1\n",
      "zeromq                     4.3.5            h5bddc39_9          conda-forge\n",
      "zipp                       3.23.0           pyhd8ed1ab_0        conda-forge\n",
      "zlib                       1.3.1            h02ab6af_0\n"
     ]
    }
   ],
   "source": [
    "!conda list"
   ]
  },
  {
   "cell_type": "code",
   "execution_count": 1,
   "id": "6360d703",
   "metadata": {},
   "outputs": [
    {
     "name": "stdout",
     "output_type": "stream",
     "text": [
      "Collecting mable\n",
      "  Using cached mable-0.0.13.post3-py3-none-any.whl.metadata (2.2 kB)\n",
      "Collecting argcomplete>=3.5.3 (from mable)\n",
      "  Using cached argcomplete-3.6.2-py3-none-any.whl.metadata (16 kB)\n",
      "Collecting attrs>=25.1.0 (from mable)\n",
      "  Using cached attrs-25.4.0-py3-none-any.whl.metadata (10 kB)\n",
      "Collecting loguru>=0.7.3 (from mable)\n",
      "  Using cached loguru-0.7.3-py3-none-any.whl.metadata (22 kB)\n",
      "Collecting marshmallow>=3.26.1 (from mable)\n",
      "  Using cached marshmallow-4.0.1-py3-none-any.whl.metadata (7.4 kB)\n",
      "Collecting networkx>=3.4.2 (from mable)\n",
      "  Using cached networkx-3.5-py3-none-any.whl.metadata (6.3 kB)\n",
      "Requirement already satisfied: numpy>=2.2.3 in d:\\env\\python\\anaconda\\envs\\agent_experiment\\lib\\site-packages (from mable) (2.3.3)\n",
      "Collecting pandas>=2.2.3 (from mable)\n",
      "  Using cached pandas-2.3.3-cp313-cp313-win_amd64.whl.metadata (19 kB)\n",
      "Collecting prettytable>=3.14.0 (from mable)\n",
      "  Using cached prettytable-3.16.0-py3-none-any.whl.metadata (33 kB)\n",
      "Collecting simplification>=0.7.13 (from mable)\n",
      "  Using cached simplification-0.7.13-cp313-cp313-win_amd64.whl.metadata (10 kB)\n",
      "Requirement already satisfied: colorama>=0.3.4 in d:\\env\\python\\anaconda\\envs\\agent_experiment\\lib\\site-packages (from loguru>=0.7.3->mable) (0.4.6)\n",
      "Collecting win32-setctime>=1.0.0 (from loguru>=0.7.3->mable)\n",
      "  Using cached win32_setctime-1.2.0-py3-none-any.whl.metadata (2.4 kB)\n",
      "Requirement already satisfied: python-dateutil>=2.8.2 in d:\\env\\python\\anaconda\\envs\\agent_experiment\\lib\\site-packages (from pandas>=2.2.3->mable) (2.9.0.post0)\n",
      "Collecting pytz>=2020.1 (from pandas>=2.2.3->mable)\n",
      "  Using cached pytz-2025.2-py2.py3-none-any.whl.metadata (22 kB)\n",
      "Collecting tzdata>=2022.7 (from pandas>=2.2.3->mable)\n",
      "  Using cached tzdata-2025.2-py2.py3-none-any.whl.metadata (1.4 kB)\n",
      "Requirement already satisfied: wcwidth in d:\\env\\python\\anaconda\\envs\\agent_experiment\\lib\\site-packages (from prettytable>=3.14.0->mable) (0.2.14)\n",
      "Requirement already satisfied: six>=1.5 in d:\\env\\python\\anaconda\\envs\\agent_experiment\\lib\\site-packages (from python-dateutil>=2.8.2->pandas>=2.2.3->mable) (1.17.0)\n",
      "Using cached mable-0.0.13.post3-py3-none-any.whl (75 kB)\n",
      "Using cached argcomplete-3.6.2-py3-none-any.whl (43 kB)\n",
      "Using cached attrs-25.4.0-py3-none-any.whl (67 kB)\n",
      "Using cached loguru-0.7.3-py3-none-any.whl (61 kB)\n",
      "Using cached marshmallow-4.0.1-py3-none-any.whl (48 kB)\n",
      "Using cached networkx-3.5-py3-none-any.whl (2.0 MB)\n",
      "Using cached pandas-2.3.3-cp313-cp313-win_amd64.whl (11.0 MB)\n",
      "Using cached prettytable-3.16.0-py3-none-any.whl (33 kB)\n",
      "Using cached pytz-2025.2-py2.py3-none-any.whl (509 kB)\n",
      "Using cached simplification-0.7.13-cp313-cp313-win_amd64.whl (184 kB)\n",
      "Using cached tzdata-2025.2-py2.py3-none-any.whl (347 kB)\n",
      "Using cached win32_setctime-1.2.0-py3-none-any.whl (4.1 kB)\n",
      "Installing collected packages: pytz, win32-setctime, tzdata, simplification, prettytable, networkx, marshmallow, attrs, argcomplete, pandas, loguru, mable\n",
      "\n",
      "   ----------------------------------------  0/12 [pytz]\n",
      "   ------ ---------------------------------  2/12 [tzdata]\n",
      "   ---------------- -----------------------  5/12 [networkx]\n",
      "   ---------------- -----------------------  5/12 [networkx]\n",
      "   ---------------- -----------------------  5/12 [networkx]\n",
      "   ---------------- -----------------------  5/12 [networkx]\n",
      "   ---------------- -----------------------  5/12 [networkx]\n",
      "   ---------------- -----------------------  5/12 [networkx]\n",
      "   ---------------- -----------------------  5/12 [networkx]\n",
      "   ----------------------- ----------------  7/12 [attrs]\n",
      "   ------------------------------ ---------  9/12 [pandas]\n",
      "   ------------------------------ ---------  9/12 [pandas]\n",
      "   ------------------------------ ---------  9/12 [pandas]\n",
      "   ------------------------------ ---------  9/12 [pandas]\n",
      "   ------------------------------ ---------  9/12 [pandas]\n",
      "   ------------------------------ ---------  9/12 [pandas]\n",
      "   ------------------------------ ---------  9/12 [pandas]\n",
      "   ------------------------------ ---------  9/12 [pandas]\n",
      "   ------------------------------ ---------  9/12 [pandas]\n",
      "   ------------------------------ ---------  9/12 [pandas]\n",
      "   ------------------------------ ---------  9/12 [pandas]\n",
      "   ------------------------------ ---------  9/12 [pandas]\n",
      "   ------------------------------ ---------  9/12 [pandas]\n",
      "   ------------------------------ ---------  9/12 [pandas]\n",
      "   ------------------------------ ---------  9/12 [pandas]\n",
      "   ------------------------------ ---------  9/12 [pandas]\n",
      "   ------------------------------ ---------  9/12 [pandas]\n",
      "   ------------------------------ ---------  9/12 [pandas]\n",
      "   ------------------------------ ---------  9/12 [pandas]\n",
      "   ------------------------------ ---------  9/12 [pandas]\n",
      "   ------------------------------ ---------  9/12 [pandas]\n",
      "   ------------------------------ ---------  9/12 [pandas]\n",
      "   ------------------------------ ---------  9/12 [pandas]\n",
      "   ------------------------------ ---------  9/12 [pandas]\n",
      "   ------------------------------------ --- 11/12 [mable]\n",
      "   ---------------------------------------- 12/12 [mable]\n",
      "\n",
      "Successfully installed argcomplete-3.6.2 attrs-25.4.0 loguru-0.7.3 mable-0.0.13.post3 marshmallow-4.0.1 networkx-3.5 pandas-2.3.3 prettytable-3.16.0 pytz-2025.2 simplification-0.7.13 tzdata-2025.2 win32-setctime-1.2.0\n"
     ]
    }
   ],
   "source": [
    "!pip install mable"
   ]
  },
  {
   "cell_type": "code",
   "execution_count": 7,
   "id": "309ef33c",
   "metadata": {},
   "outputs": [
    {
     "name": "stdout",
     "output_type": "stream",
     "text": [
      "Available kernels:\n",
      "  python3    D:\\env\\python\\anaconda\\envs\\agent_experiment\\share\\jupyter\\kernels\\python3\n"
     ]
    }
   ],
   "source": [
    "!jupyter kernelspec list"
   ]
  },
  {
   "cell_type": "code",
   "execution_count": 2,
   "id": "5bf5fac6",
   "metadata": {},
   "outputs": [
    {
     "name": "stdout",
     "output_type": "stream",
     "text": [
      "# packages in environment at D:\\env\\python\\anaconda:\n",
      "#\n",
      "# Name                     Version          Build            Channel\n"
     ]
    }
   ],
   "source": [
    "!conda list mable"
   ]
  },
  {
   "cell_type": "code",
   "execution_count": 11,
   "id": "bde5ed6e",
   "metadata": {},
   "outputs": [
    {
     "name": "stderr",
     "output_type": "stream",
     "text": [
      "\u001b[32m2025-10-15 14:05:05.813\u001b[0m | \u001b[34m\u001b[1mDEBUG   \u001b[0m | \u001b[36mmable.extensions.cargo_distributions\u001b[0m:\u001b[36minitialise_trades\u001b[0m:\u001b[36m114\u001b[0m - \u001b[34m\u001b[1mGenerating trades from 0 to 1440 [at ~60 day(s) 0 hour(s)] every 720 [at ~30 day(s) 0 hour(s)]. Resulting in 3 cargo events.\u001b[0m\n",
      "\u001b[32m2025-10-15 14:05:06.930\u001b[0m | \u001b[34m\u001b[1mDEBUG   \u001b[0m | \u001b[36mmable.extensions.cargo_distributions\u001b[0m:\u001b[36minitialise_trades\u001b[0m:\u001b[36m135\u001b[0m - \u001b[34m\u001b[1mGenerated 1 cargoes for time 0 [At ~0 day(s) 0 hour(s)].\u001b[0m\n",
      "\u001b[32m2025-10-15 14:05:06.937\u001b[0m | \u001b[34m\u001b[1mDEBUG   \u001b[0m | \u001b[36mmable.extensions.cargo_distributions\u001b[0m:\u001b[36minitialise_trades\u001b[0m:\u001b[36m135\u001b[0m - \u001b[34m\u001b[1mGenerated 1 cargoes for time 720 [At ~30 day(s) 0 hour(s)].\u001b[0m\n",
      "\u001b[32m2025-10-15 14:05:06.942\u001b[0m | \u001b[34m\u001b[1mDEBUG   \u001b[0m | \u001b[36mmable.extensions.cargo_distributions\u001b[0m:\u001b[36minitialise_trades\u001b[0m:\u001b[36m135\u001b[0m - \u001b[34m\u001b[1mGenerated 1 cargoes for time 1440 [At ~60 day(s) 0 hour(s)].\u001b[0m\n",
      "\u001b[32m2025-10-15 14:05:07.174\u001b[0m | \u001b[1mINFO    \u001b[0m | \u001b[36mmable.shipping_market\u001b[0m:\u001b[36mget_trades\u001b[0m:\u001b[36m90\u001b[0m - \u001b[1m1 trades of a total of 1 trades realised (time: 0).\u001b[0m\n",
      "\u001b[32m2025-10-15 14:05:07.175\u001b[0m | \u001b[34m\u001b[1mDEBUG   \u001b[0m | \u001b[36mmable.event_management\u001b[0m:\u001b[36mput\u001b[0m:\u001b[36m648\u001b[0m - \u001b[34m\u001b[1mAdded event to queue: EventItem(time=0, event=Event(FirstCargoAnnouncementEvent): time 0[~0 day(s) 0 hour(s)], info: None.).\u001b[0m\n",
      "\u001b[32m2025-10-15 14:05:07.175\u001b[0m | \u001b[34m\u001b[1mDEBUG   \u001b[0m | \u001b[36mmable.event_management\u001b[0m:\u001b[36mput\u001b[0m:\u001b[36m648\u001b[0m - \u001b[34m\u001b[1mAdded event to queue: EventItem(time=719.9999999999, event=Event(CargoAnnouncementEvent): time 720.0[~29 day(s) 24.0 hour(s)], info: None.).\u001b[0m\n",
      "\u001b[32m2025-10-15 14:05:07.176\u001b[0m | \u001b[1mINFO    \u001b[0m | \u001b[36mmable.observers\u001b[0m:\u001b[36mrun\u001b[0m:\u001b[36m162\u001b[0m - \u001b[1m---Pre Run Start---\u001b[0m\n",
      "\u001b[32m2025-10-15 14:05:07.176\u001b[0m | \u001b[34m\u001b[1mDEBUG   \u001b[0m | \u001b[36mmable.engine\u001b[0m:\u001b[36mnotify_event_observer\u001b[0m:\u001b[36m338\u001b[0m - \u001b[34m\u001b[1mNotify 4 event observers about event: Event(VesselLocationInformationEvent): time -1 [-], duration: 0 [~0 day(s) 0 hour(s)], info: My Shipping Corp Ltd.'s HMS Terror in Aberdeen-f8ea5ddd09c3.\u001b[0m\n",
      "\u001b[32m2025-10-15 14:05:07.177\u001b[0m | \u001b[34m\u001b[1mDEBUG   \u001b[0m | \u001b[36mmable.engine\u001b[0m:\u001b[36mnotify_event_observer\u001b[0m:\u001b[36m340\u001b[0m - \u001b[34m\u001b[1mNotify event observer AuctionMetricsObserver: Event(VesselLocationInformationEvent): time -1 [-], duration: 0 [~0 day(s) 0 hour(s)], info: My Shipping Corp Ltd.'s HMS Terror in Aberdeen-f8ea5ddd09c3.\u001b[0m\n",
      "\u001b[32m2025-10-15 14:05:07.178\u001b[0m | \u001b[34m\u001b[1mDEBUG   \u001b[0m | \u001b[36mmable.engine\u001b[0m:\u001b[36mnotify_event_observer\u001b[0m:\u001b[36m340\u001b[0m - \u001b[34m\u001b[1mNotify event observer EventFuelPrintObserver: Event(VesselLocationInformationEvent): time -1 [-], duration: 0 [~0 day(s) 0 hour(s)], info: My Shipping Corp Ltd.'s HMS Terror in Aberdeen-f8ea5ddd09c3.\u001b[0m\n",
      "\u001b[32m2025-10-15 14:05:07.178\u001b[0m | \u001b[1mINFO    \u001b[0m | \u001b[36mmable.observers\u001b[0m:\u001b[36mnotify\u001b[0m:\u001b[36m21\u001b[0m - \u001b[1mEvent(VesselLocationInformationEvent): time -1 [-], duration: 0 [~0 day(s) 0 hour(s)], info: My Shipping Corp Ltd.'s HMS Terror in Aberdeen-f8ea5ddd09c3.\u001b[0m\n",
      "\u001b[32m2025-10-15 14:05:07.179\u001b[0m | \u001b[34m\u001b[1mDEBUG   \u001b[0m | \u001b[36mmable.engine\u001b[0m:\u001b[36mnotify_event_observer\u001b[0m:\u001b[36m340\u001b[0m - \u001b[34m\u001b[1mNotify event observer AuctionOutcomeObserver: Event(VesselLocationInformationEvent): time -1 [-], duration: 0 [~0 day(s) 0 hour(s)], info: My Shipping Corp Ltd.'s HMS Terror in Aberdeen-f8ea5ddd09c3.\u001b[0m\n",
      "\u001b[32m2025-10-15 14:05:07.180\u001b[0m | \u001b[34m\u001b[1mDEBUG   \u001b[0m | \u001b[36mmable.engine\u001b[0m:\u001b[36mnotify_event_observer\u001b[0m:\u001b[36m340\u001b[0m - \u001b[34m\u001b[1mNotify event observer TradeDeliveryObserver: Event(VesselLocationInformationEvent): time -1 [-], duration: 0 [~0 day(s) 0 hour(s)], info: My Shipping Corp Ltd.'s HMS Terror in Aberdeen-f8ea5ddd09c3.\u001b[0m\n",
      "\u001b[32m2025-10-15 14:05:07.180\u001b[0m | \u001b[1mINFO    \u001b[0m | \u001b[36mmable.observers\u001b[0m:\u001b[36mrun\u001b[0m:\u001b[36m162\u001b[0m - \u001b[1m--Run Start (Pre Run Finished)---\u001b[0m\n",
      "\u001b[32m2025-10-15 14:05:07.180\u001b[0m | \u001b[1mINFO    \u001b[0m | \u001b[36mmable.shipping_market\u001b[0m:\u001b[36mget_trades\u001b[0m:\u001b[36m90\u001b[0m - \u001b[1m1 trades of a total of 1 trades realised (time: 720).\u001b[0m\n"
     ]
    },
    {
     "ename": "RuntimeError",
     "evalue": "asyncio.run() cannot be called from a running event loop",
     "output_type": "error",
     "traceback": [
      "\u001b[31m---------------------------------------------------------------------------\u001b[39m",
      "\u001b[31mRuntimeError\u001b[39m                              Traceback (most recent call last)",
      "\u001b[36mCell\u001b[39m\u001b[36m \u001b[39m\u001b[32mIn[11]\u001b[39m\u001b[32m, line 11\u001b[39m\n\u001b[32m      9\u001b[39m specifications_builder.add_company(MyCompany.Data(MyCompany, fleet, \u001b[33m\"\u001b[39m\u001b[33mMy Shipping Corp Ltd.\u001b[39m\u001b[33m\"\u001b[39m))\n\u001b[32m     10\u001b[39m sim = environment.generate_simulation(specifications_builder)\n\u001b[32m---> \u001b[39m\u001b[32m11\u001b[39m \u001b[43msim\u001b[49m\u001b[43m.\u001b[49m\u001b[43mrun\u001b[49m\u001b[43m(\u001b[49m\u001b[43m)\u001b[49m\n",
      "\u001b[36mFile \u001b[39m\u001b[32md:\\env\\python\\anaconda\\envs\\agent_experiment\\Lib\\site-packages\\mable\\engine.py:173\u001b[39m, in \u001b[36mSimulationEngine.run\u001b[39m\u001b[34m(self)\u001b[39m\n\u001b[32m    171\u001b[39m \u001b[38;5;28mself\u001b[39m._pre_run()\n\u001b[32m    172\u001b[39m \u001b[38;5;28;01mwhile\u001b[39;00m \u001b[38;5;28mself\u001b[39m._world.do_events_exists():\n\u001b[32m--> \u001b[39m\u001b[32m173\u001b[39m     next_event, data = \u001b[38;5;28;43mself\u001b[39;49m\u001b[43m.\u001b[49m\u001b[43m_process_next_event\u001b[49m\u001b[43m(\u001b[49m\u001b[43m)\u001b[49m\n\u001b[32m    174\u001b[39m     \u001b[38;5;28mself\u001b[39m.notify_event_observer(next_event, data)\n\u001b[32m    175\u001b[39m \u001b[38;5;28mself\u001b[39m._post_run()\n",
      "\u001b[36mFile \u001b[39m\u001b[32md:\\env\\python\\anaconda\\envs\\agent_experiment\\Lib\\site-packages\\mable\\engine.py:161\u001b[39m, in \u001b[36mSimulationEngine._process_next_event\u001b[39m\u001b[34m(self)\u001b[39m\n\u001b[32m    159\u001b[39m     next_event = \u001b[38;5;28mself\u001b[39m._world.get_next_event()\n\u001b[32m    160\u001b[39m     data = EventExecutionData()\n\u001b[32m--> \u001b[39m\u001b[32m161\u001b[39m     event_action_result = \u001b[43mnext_event\u001b[49m\u001b[43m.\u001b[49m\u001b[43mevent_action\u001b[49m\u001b[43m(\u001b[49m\u001b[38;5;28;43mself\u001b[39;49m\u001b[43m)\u001b[49m\n\u001b[32m    162\u001b[39m     data.action_data = event_action_result\n\u001b[32m    163\u001b[39m \u001b[38;5;28;01mreturn\u001b[39;00m next_event, data\n",
      "\u001b[36mFile \u001b[39m\u001b[32md:\\env\\python\\anaconda\\envs\\agent_experiment\\Lib\\site-packages\\mable\\event_management.py:104\u001b[39m, in \u001b[36mFirstCargoAnnouncementEvent.event_action\u001b[39m\u001b[34m(self, engine)\u001b[39m\n\u001b[32m     96\u001b[39m \u001b[38;5;250m\u001b[39m\u001b[33;03m\"\"\"\u001b[39;00m\n\u001b[32m     97\u001b[39m \u001b[33;03mAnnounces the cargoes becoming available at a later time and adds the auction to the event queue as well as\u001b[39;00m\n\u001b[32m     98\u001b[39m \u001b[33;03mthe auction about events at time 0.\u001b[39;00m\n\u001b[32m   (...)\u001b[39m\u001b[32m    101\u001b[39m \u001b[33;03m:type engine: SimulationEngine\u001b[39;00m\n\u001b[32m    102\u001b[39m \u001b[33;03m\"\"\"\u001b[39;00m\n\u001b[32m    103\u001b[39m all_trades_later = engine.shipping.get_trades(\u001b[38;5;28mself\u001b[39m._cargo_available_time_second_cargo)\n\u001b[32m--> \u001b[39m\u001b[32m104\u001b[39m \u001b[43mengine\u001b[49m\u001b[43m.\u001b[49m\u001b[43mmarket\u001b[49m\u001b[43m.\u001b[49m\u001b[43minform_future_trades\u001b[49m\u001b[43m(\u001b[49m\n\u001b[32m    105\u001b[39m \u001b[43m    \u001b[49m\u001b[43mall_trades_later\u001b[49m\u001b[43m,\u001b[49m\u001b[43m \u001b[49m\u001b[38;5;28;43mself\u001b[39;49m\u001b[43m.\u001b[49m\u001b[43m_cargo_available_time_second_cargo\u001b[49m\u001b[43m,\u001b[49m\u001b[43m \u001b[49m\u001b[43mengine\u001b[49m\u001b[43m.\u001b[49m\u001b[43mshipping_companies\u001b[49m\u001b[43m)\u001b[49m\n\u001b[32m    106\u001b[39m \u001b[38;5;28mself\u001b[39m.info = (\u001b[33mf\u001b[39m\u001b[33m\"\u001b[39m\u001b[33m#Trades: \u001b[39m\u001b[38;5;132;01m{\u001b[39;00m\u001b[38;5;28mlen\u001b[39m(all_trades_later)\u001b[38;5;132;01m}\u001b[39;00m\u001b[33m.\u001b[39m\u001b[33m\"\u001b[39m\n\u001b[32m    107\u001b[39m              \u001b[33mf\u001b[39m\u001b[33m\"\u001b[39m\u001b[33m For time \u001b[39m\u001b[38;5;132;01m{\u001b[39;00mformat_time(\u001b[38;5;28mself\u001b[39m._cargo_available_time_second_cargo)\u001b[38;5;132;01m}\u001b[39;00m\u001b[33m\"\u001b[39m)\n\u001b[32m    108\u001b[39m engine.world.event_queue.put(engine.class_factory.generate_event_cargo(\u001b[32m0\u001b[39m))\n",
      "\u001b[36mFile \u001b[39m\u001b[32md:\\env\\python\\anaconda\\envs\\agent_experiment\\Lib\\site-packages\\mable\\shipping_market.py:434\u001b[39m, in \u001b[36mAuctionMarket.inform_future_trades\u001b[39m\u001b[34m(trades, time, shipping_companies, timeout)\u001b[39m\n\u001b[32m    422\u001b[39m \u001b[38;5;250m\u001b[39m\u001b[33;03m\"\"\"\u001b[39;00m\n\u001b[32m    423\u001b[39m \u001b[33;03mInforms the shipping companies of upcoming trades.\u001b[39;00m\n\u001b[32m    424\u001b[39m \n\u001b[32m   (...)\u001b[39m\u001b[32m    431\u001b[39m \u001b[33;03m:type timeout: int\u001b[39;00m\n\u001b[32m    432\u001b[39m \u001b[33;03m\"\"\"\u001b[39;00m\n\u001b[32m    433\u001b[39m \u001b[38;5;28;01mfor\u001b[39;00m current_company \u001b[38;5;129;01min\u001b[39;00m shipping_companies:\n\u001b[32m--> \u001b[39m\u001b[32m434\u001b[39m     \u001b[43masyncio\u001b[49m\u001b[43m.\u001b[49m\u001b[43mrun\u001b[49m\u001b[43m(\u001b[49m\u001b[43mAuctionMarket\u001b[49m\u001b[43m.\u001b[49m\u001b[43m_company_pre_inform_timeout\u001b[49m\u001b[43m(\u001b[49m\n\u001b[32m    435\u001b[39m \u001b[43m        \u001b[49m\u001b[43mcurrent_company\u001b[49m\u001b[43m,\u001b[49m\u001b[43m \u001b[49m\u001b[43mtrades\u001b[49m\u001b[43m,\u001b[49m\u001b[43m \u001b[49m\u001b[43mtime\u001b[49m\u001b[43m,\u001b[49m\u001b[43m \u001b[49m\u001b[43mtimeout\u001b[49m\u001b[43m=\u001b[49m\u001b[43mtimeout\u001b[49m\u001b[43m)\u001b[49m\u001b[43m)\u001b[49m\n",
      "\u001b[36mFile \u001b[39m\u001b[32md:\\env\\python\\anaconda\\envs\\agent_experiment\\Lib\\asyncio\\runners.py:191\u001b[39m, in \u001b[36mrun\u001b[39m\u001b[34m(main, debug, loop_factory)\u001b[39m\n\u001b[32m    161\u001b[39m \u001b[38;5;250m\u001b[39m\u001b[33;03m\"\"\"Execute the coroutine and return the result.\u001b[39;00m\n\u001b[32m    162\u001b[39m \n\u001b[32m    163\u001b[39m \u001b[33;03mThis function runs the passed coroutine, taking care of\u001b[39;00m\n\u001b[32m   (...)\u001b[39m\u001b[32m    187\u001b[39m \u001b[33;03m    asyncio.run(main())\u001b[39;00m\n\u001b[32m    188\u001b[39m \u001b[33;03m\"\"\"\u001b[39;00m\n\u001b[32m    189\u001b[39m \u001b[38;5;28;01mif\u001b[39;00m events._get_running_loop() \u001b[38;5;129;01mis\u001b[39;00m \u001b[38;5;129;01mnot\u001b[39;00m \u001b[38;5;28;01mNone\u001b[39;00m:\n\u001b[32m    190\u001b[39m     \u001b[38;5;66;03m# fail fast with short traceback\u001b[39;00m\n\u001b[32m--> \u001b[39m\u001b[32m191\u001b[39m     \u001b[38;5;28;01mraise\u001b[39;00m \u001b[38;5;167;01mRuntimeError\u001b[39;00m(\n\u001b[32m    192\u001b[39m         \u001b[33m\"\u001b[39m\u001b[33masyncio.run() cannot be called from a running event loop\u001b[39m\u001b[33m\"\u001b[39m)\n\u001b[32m    194\u001b[39m \u001b[38;5;28;01mwith\u001b[39;00m Runner(debug=debug, loop_factory=loop_factory) \u001b[38;5;28;01mas\u001b[39;00m runner:\n\u001b[32m    195\u001b[39m     \u001b[38;5;28;01mreturn\u001b[39;00m runner.run(main)\n",
      "\u001b[31mRuntimeError\u001b[39m: asyncio.run() cannot be called from a running event loop"
     ]
    }
   ],
   "source": [
    "from mable.cargo_bidding import TradingCompany\n",
    "from mable.examples import environment, fleets\n",
    "\n",
    "class MyCompany(TradingCompany):\n",
    "    pass\n",
    "if __name__ == '__main__':\n",
    "    specifications_builder = environment.get_specification_builder(environment_files_path=\".\")\n",
    "    fleet = fleets.example_fleet_1()\n",
    "    specifications_builder.add_company(MyCompany.Data(MyCompany, fleet, \"My Shipping Corp Ltd.\"))\n",
    "    sim = environment.generate_simulation(specifications_builder)\n",
    "    sim.run()"
   ]
  }
 ],
 "metadata": {
  "kernelspec": {
   "display_name": "agent_experiment",
   "language": "python",
   "name": "python3"
  },
  "language_info": {
   "codemirror_mode": {
    "name": "ipython",
    "version": 3
   },
   "file_extension": ".py",
   "mimetype": "text/x-python",
   "name": "python",
   "nbconvert_exporter": "python",
   "pygments_lexer": "ipython3",
   "version": "3.13.7"
  }
 },
 "nbformat": 4,
 "nbformat_minor": 5
}
